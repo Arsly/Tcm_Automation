{
  "cells": [
    {
      "metadata": {
        "trusted": true
      },
      "cell_type": "code",
      "source": "! pip install pdfminer3k",
      "execution_count": 4,
      "outputs": [
        {
          "output_type": "stream",
          "text": "Collecting pdfminer3k\n\u001b[?25l  Downloading https://files.pythonhosted.org/packages/8c/87/cee0aa24f95c287020df7e3936cb51d32b34b05b430759bac15f89ea5ac2/pdfminer3k-1.3.1.tar.gz (4.1MB)\n\u001b[K    100% |████████████████████████████████| 4.1MB 274kB/s ta 0:00:011\n\u001b[?25hRequirement already satisfied: pytest>=2.0 in /home/nbuser/anaconda3_501/lib/python3.6/site-packages (from pdfminer3k) (3.8.2)\nRequirement already satisfied: ply>=3.4 in /home/nbuser/anaconda3_501/lib/python3.6/site-packages (from pdfminer3k) (3.11)\nRequirement already satisfied: py>=1.5.0 in /home/nbuser/anaconda3_501/lib/python3.6/site-packages (from pytest>=2.0->pdfminer3k) (1.6.0)\nRequirement already satisfied: six>=1.10.0 in /home/nbuser/anaconda3_501/lib/python3.6/site-packages (from pytest>=2.0->pdfminer3k) (1.11.0)\nRequirement already satisfied: setuptools in /home/nbuser/anaconda3_501/lib/python3.6/site-packages (from pytest>=2.0->pdfminer3k) (40.8.0)\nRequirement already satisfied: attrs>=17.4.0 in /home/nbuser/anaconda3_501/lib/python3.6/site-packages (from pytest>=2.0->pdfminer3k) (18.2.0)\nRequirement already satisfied: more-itertools>=4.0.0 in /home/nbuser/anaconda3_501/lib/python3.6/site-packages (from pytest>=2.0->pdfminer3k) (4.3.0)\nRequirement already satisfied: atomicwrites>=1.0 in /home/nbuser/anaconda3_501/lib/python3.6/site-packages (from pytest>=2.0->pdfminer3k) (1.2.1)\nRequirement already satisfied: pluggy>=0.7 in /home/nbuser/anaconda3_501/lib/python3.6/site-packages (from pytest>=2.0->pdfminer3k) (0.7.1)\nBuilding wheels for collected packages: pdfminer3k\n  Building wheel for pdfminer3k (setup.py) ... \u001b[?25ldone\n\u001b[?25h  Stored in directory: /home/nbuser/.cache/pip/wheels/ca/4f/a7/cb601b4fb257d2321ac668b7c6e269176780bd0283eda855d2\nSuccessfully built pdfminer3k\nInstalling collected packages: pdfminer3k\nSuccessfully installed pdfminer3k-1.3.1\n",
          "name": "stdout"
        }
      ]
    },
    {
      "metadata": {
        "trusted": true
      },
      "cell_type": "code",
      "source": "from pdfminer.pdfinterp import PDFResourceManager, process_pdf\nfrom pdfminer.converter import TextConverter\nfrom pdfminer.layout import LAParams\nfrom io import StringIO\nfrom io import open\nfrom urllib.request import urlopen",
      "execution_count": 28,
      "outputs": []
    },
    {
      "metadata": {
        "trusted": true
      },
      "cell_type": "code",
      "source": "def readPDF(pdfFile):\n    rsrcmgr = PDFResourceManager()\n    retstr = StringIO()\n    laparams = LAParams()\n    device = TextConverter(rsrcmgr, retstr, laparams=laparams)\n\n    process_pdf(rsrcmgr, device, pdfFile)\n    device.close()\n\n    content = retstr.getvalue()\n    retstr.close()\n    return content",
      "execution_count": 29,
      "outputs": []
    },
    {
      "metadata": {
        "trusted": true
      },
      "cell_type": "code",
      "source": "# pdfFile = urlopen(\"http://www.xmlpdf.com/manualfiles/hello-world.pdf\")\npdfFile = open(\"./test.pdf\",\"rb\")\noutputString = readPDF(pdfFile)\nprint(outputString)\npdfFile.close()",
      "execution_count": 65,
      "outputs": [
        {
          "output_type": "stream",
          "text": "WARNING:root:Parser index out of bounds\n",
          "name": "stderr"
        },
        {
          "output_type": "stream",
          "text": "今天天氣真好 \n\n\f\n",
          "name": "stdout"
        }
      ]
    },
    {
      "metadata": {
        "trusted": true
      },
      "cell_type": "code",
      "source": "Gender = []\nOld = []\nfor i,count in enumerate(outputString):\n    if \"男\" == count:\n        Gender.append(i)\n        Sex = \"性別:\" + outputString[Gender[0]]\n    elif \"女\" == count:\n        Gender.append(i)\n        Sex = \"性別:\" + outputString[Gender[0]]\n    else:\n        Sex = \"性別:\"+\"Null\"\n    #print(i,count) #文字對應位置",
      "execution_count": 66,
      "outputs": []
    },
    {
      "metadata": {
        "trusted": true
      },
      "cell_type": "code",
      "source": "print(Sex)",
      "execution_count": 67,
      "outputs": [
        {
          "output_type": "stream",
          "text": "性別:Null\n",
          "name": "stdout"
        }
      ]
    },
    {
      "metadata": {
        "trusted": true
      },
      "cell_type": "code",
      "source": "",
      "execution_count": null,
      "outputs": []
    },
    {
      "metadata": {
        "trusted": true
      },
      "cell_type": "code",
      "source": "",
      "execution_count": null,
      "outputs": []
    },
    {
      "metadata": {
        "trusted": true
      },
      "cell_type": "code",
      "source": "",
      "execution_count": null,
      "outputs": []
    },
    {
      "metadata": {
        "trusted": true
      },
      "cell_type": "code",
      "source": "",
      "execution_count": null,
      "outputs": []
    },
    {
      "metadata": {
        "trusted": true
      },
      "cell_type": "code",
      "source": "",
      "execution_count": null,
      "outputs": []
    }
  ],
  "metadata": {
    "kernelspec": {
      "name": "python36",
      "display_name": "Python 3.6",
      "language": "python"
    },
    "language_info": {
      "mimetype": "text/x-python",
      "nbconvert_exporter": "python",
      "name": "python",
      "pygments_lexer": "ipython3",
      "version": "3.6.6",
      "file_extension": ".py",
      "codemirror_mode": {
        "version": 3,
        "name": "ipython"
      }
    }
  },
  "nbformat": 4,
  "nbformat_minor": 2
}